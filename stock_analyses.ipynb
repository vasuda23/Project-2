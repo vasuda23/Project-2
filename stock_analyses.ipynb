{
 "cells": [
  {
   "cell_type": "code",
   "execution_count": 1,
   "metadata": {},
   "outputs": [],
   "source": [
    "import requests\n",
    "import pandas as pd\n",
    "from sqlalchemy import create_engine"
   ]
  },
  {
   "cell_type": "code",
   "execution_count": 2,
   "metadata": {},
   "outputs": [],
   "source": [
    "url=\"https://apidojo-yahoo-finance-v1.p.rapidapi.com/stock/v2/get-insights\"\n",
    "\n",
    "querystring_amzn={\"symbol\":\"AMZN\"}\n",
    "\n",
    "headers={\n",
    "     'x-rapidapi-host': \"apidojo-yahoo-finance-v1.p.rapidapi.com\",\n",
    "    'x-rapidapi-key': \"5c2dd87e0dmsha187c08a1efd2e2p1857ddjsn656d1f32423e\"\n",
    "}"
   ]
  },
  {
   "cell_type": "code",
   "execution_count": 3,
   "metadata": {},
   "outputs": [],
   "source": [
    "response_amzn=requests.request(\"GET\", url, headers=headers, params=querystring_amzn)"
   ]
  },
  {
   "cell_type": "code",
   "execution_count": 4,
   "metadata": {},
   "outputs": [
    {
     "data": {
      "text/plain": [
       "\"Amazon.com is the leading U.S. e-commerce retailer and among the top e-commerce sites globally. Amazon.com also provides Amazon Web Services (AWS), which is the global leader in cloud-based Infrastructure-as-a-Service (IaaS) platforms. The company's Prime membership platform is a key online retail differentiator, providing customers with free shipping (after an annual fee) along with exclusive media content (music, video, audible books, etc.). The company's Kindle reader and Alexa-based Echo and Dot digital voice assistants are category leaders. Amazon acquired Whole Foods Market in August 2017.\""
      ]
     },
     "execution_count": 4,
     "metadata": {},
     "output_type": "execute_result"
    }
   ],
   "source": [
    "amzn = response_amzn.json()\n",
    "finance_amzn = amzn['finance']\n",
    "result_amzn = finance_amzn['result']\n",
    "info_amzn = result_amzn['reports']\n",
    "summary_amzn = info_amzn[2]\n",
    "amzn_analysis = summary_amzn['summary']\n",
    "amzn_analysis"
   ]
  },
  {
   "cell_type": "code",
   "execution_count": 5,
   "metadata": {},
   "outputs": [],
   "source": [
    "querystring_jwn = {\"frequency\":\"1d\",\"filter\":\"history\",\"period1\":\"1562086800\",\"period2\":\"1577836800\",\"symbol\":\"JWN\"}\n",
    "response_jwn = requests.request(\"GET\", url, headers=headers, params=querystring_jwn)"
   ]
  },
  {
   "cell_type": "code",
   "execution_count": 6,
   "metadata": {},
   "outputs": [
    {
     "data": {
      "text/plain": [
       "\"Nordstrom Inc. operates a chain of 130 upscale specialty department stores and more than 245 Nordstrom Rack stores. The company's target customer is 25-54 years old and has a household income of more than $100,000. The company's total square footage is just over 30 million, with about 24% of this space in California. The company operates an e-commerce website at Nordstrom.com.\""
      ]
     },
     "execution_count": 6,
     "metadata": {},
     "output_type": "execute_result"
    }
   ],
   "source": [
    "jwn = response_jwn.json()\n",
    "finance_jwn = jwn['finance']\n",
    "result_jwn = finance_jwn['result']\n",
    "info_jwn = result_jwn['reports']\n",
    "summary_jwn = info_jwn[0]\n",
    "jwn_analysis = summary_jwn['summary']\n",
    "jwn_analysis"
   ]
  },
  {
   "cell_type": "code",
   "execution_count": 7,
   "metadata": {},
   "outputs": [],
   "source": [
    "querystring_mfa = {\"frequency\":\"1d\",\"filter\":\"history\",\"period1\":\"1562086800\",\"period2\":\"1577836800\",\"symbol\":\"MFA\"}\n",
    "response_mfa = requests.request(\"GET\", url, headers=headers, params=querystring_mfa)"
   ]
  },
  {
   "cell_type": "code",
   "execution_count": 8,
   "metadata": {},
   "outputs": [
    {
     "data": {
      "text/plain": [
       "'NEW YORK MORTGAGE TRUST INC has an Investment Rating of SELL; a target price of $2.000000; an Industry Subrating of Medium; a Management Subrating of Low; a Safety Subrating of Low; a Financial Strength Subrating of Low; a Growth Subrating of Low; and a Value Subrating of Low.'"
      ]
     },
     "execution_count": 8,
     "metadata": {},
     "output_type": "execute_result"
    }
   ],
   "source": [
    "mfa = response_mfa.json()\n",
    "finance_mfa = mfa['finance']\n",
    "result_mfa = finance_mfa['result']\n",
    "info_mfa = result_mfa['reports']\n",
    "summary_mfa = info_mfa[0]\n",
    "mfa_analysis_one = summary_mfa['summary']\n",
    "mfa_analysis_one"
   ]
  },
  {
   "cell_type": "code",
   "execution_count": 9,
   "metadata": {},
   "outputs": [
    {
     "data": {
      "text/plain": [
       "'INVESCO MORTGAGE CAPITAL has an Investment Rating of SELL; a target price of $2.000000; an Industry Subrating of Medium; a Management Subrating of Low; a Safety Subrating of Low; a Financial Strength Subrating of Low; a Growth Subrating of Low; and a Value Subrating of Low.'"
      ]
     },
     "execution_count": 9,
     "metadata": {},
     "output_type": "execute_result"
    }
   ],
   "source": [
    "summary_mfa_two = info_mfa[1]\n",
    "mfa_analysis_two = summary_mfa_two['summary']\n",
    "mfa_analysis_two"
   ]
  },
  {
   "cell_type": "code",
   "execution_count": 10,
   "metadata": {},
   "outputs": [
    {
     "data": {
      "text/html": [
       "<div>\n",
       "<style scoped>\n",
       "    .dataframe tbody tr th:only-of-type {\n",
       "        vertical-align: middle;\n",
       "    }\n",
       "\n",
       "    .dataframe tbody tr th {\n",
       "        vertical-align: top;\n",
       "    }\n",
       "\n",
       "    .dataframe thead th {\n",
       "        text-align: right;\n",
       "    }\n",
       "</style>\n",
       "<table border=\"1\" class=\"dataframe\">\n",
       "  <thead>\n",
       "    <tr style=\"text-align: right;\">\n",
       "      <th></th>\n",
       "      <th>Company</th>\n",
       "      <th>Analysis</th>\n",
       "    </tr>\n",
       "  </thead>\n",
       "  <tbody>\n",
       "    <tr>\n",
       "      <td>0</td>\n",
       "      <td>Amazon</td>\n",
       "      <td>Amazon.com is the leading U.S. e-commerce reta...</td>\n",
       "    </tr>\n",
       "    <tr>\n",
       "      <td>1</td>\n",
       "      <td>Nordstroms</td>\n",
       "      <td>Nordstrom Inc. operates a chain of 130 upscale...</td>\n",
       "    </tr>\n",
       "    <tr>\n",
       "      <td>2</td>\n",
       "      <td>MFA Financial</td>\n",
       "      <td>NEW YORK MORTGAGE TRUST INC has an Investment ...</td>\n",
       "    </tr>\n",
       "  </tbody>\n",
       "</table>\n",
       "</div>"
      ],
      "text/plain": [
       "         Company                                           Analysis\n",
       "0         Amazon  Amazon.com is the leading U.S. e-commerce reta...\n",
       "1     Nordstroms  Nordstrom Inc. operates a chain of 130 upscale...\n",
       "2  MFA Financial  NEW YORK MORTGAGE TRUST INC has an Investment ..."
      ]
     },
     "execution_count": 10,
     "metadata": {},
     "output_type": "execute_result"
    }
   ],
   "source": [
    "data = {'Company': ['Amazon', 'Nordstroms', 'MFA Financial'],\n",
    "     'Analysis': [amzn_analysis, jwn_analysis, mfa_analysis_one]}\n",
    "df = pd.DataFrame(data, columns=['Company', 'Analysis'])\n",
    "df"
   ]
  },
  {
   "cell_type": "code",
   "execution_count": 11,
   "metadata": {},
   "outputs": [
    {
     "data": {
      "text/plain": [
       "['corporate_analysis', 'amazon_table', 'nordstroms_table', 'mfa_table']"
      ]
     },
     "execution_count": 11,
     "metadata": {},
     "output_type": "execute_result"
    }
   ],
   "source": [
    "rds_connection_string = \"postgres:postgres@localhost:5432/stock_project2\"\n",
    "engine = create_engine(f'postgresql://{rds_connection_string}')\n",
    "engine.table_names()"
   ]
  },
  {
   "cell_type": "code",
   "execution_count": 12,
   "metadata": {},
   "outputs": [],
   "source": [
    "df.to_sql(name='corporate_analysis', con=engine, if_exists='replace', index=False)"
   ]
  },
  {
   "cell_type": "code",
   "execution_count": 13,
   "metadata": {},
   "outputs": [
    {
     "data": {
      "text/html": [
       "<div>\n",
       "<style scoped>\n",
       "    .dataframe tbody tr th:only-of-type {\n",
       "        vertical-align: middle;\n",
       "    }\n",
       "\n",
       "    .dataframe tbody tr th {\n",
       "        vertical-align: top;\n",
       "    }\n",
       "\n",
       "    .dataframe thead th {\n",
       "        text-align: right;\n",
       "    }\n",
       "</style>\n",
       "<table border=\"1\" class=\"dataframe\">\n",
       "  <thead>\n",
       "    <tr style=\"text-align: right;\">\n",
       "      <th></th>\n",
       "      <th>Company</th>\n",
       "      <th>Analysis</th>\n",
       "    </tr>\n",
       "  </thead>\n",
       "  <tbody>\n",
       "    <tr>\n",
       "      <td>0</td>\n",
       "      <td>Amazon</td>\n",
       "      <td>Amazon.com is the leading U.S. e-commerce reta...</td>\n",
       "    </tr>\n",
       "    <tr>\n",
       "      <td>1</td>\n",
       "      <td>Nordstroms</td>\n",
       "      <td>Nordstrom Inc. operates a chain of 130 upscale...</td>\n",
       "    </tr>\n",
       "    <tr>\n",
       "      <td>2</td>\n",
       "      <td>MFA Financial</td>\n",
       "      <td>NEW YORK MORTGAGE TRUST INC has an Investment ...</td>\n",
       "    </tr>\n",
       "  </tbody>\n",
       "</table>\n",
       "</div>"
      ],
      "text/plain": [
       "         Company                                           Analysis\n",
       "0         Amazon  Amazon.com is the leading U.S. e-commerce reta...\n",
       "1     Nordstroms  Nordstrom Inc. operates a chain of 130 upscale...\n",
       "2  MFA Financial  NEW YORK MORTGAGE TRUST INC has an Investment ..."
      ]
     },
     "execution_count": 13,
     "metadata": {},
     "output_type": "execute_result"
    }
   ],
   "source": [
    "pd.read_sql_query('select * from corporate_analysis', con=engine).head()"
   ]
  },
  {
   "cell_type": "code",
   "execution_count": null,
   "metadata": {},
   "outputs": [],
   "source": []
  }
 ],
 "metadata": {
  "kernelspec": {
   "display_name": "Python 3",
   "language": "python",
   "name": "python3"
  },
  "language_info": {
   "codemirror_mode": {
    "name": "ipython",
    "version": 3
   },
   "file_extension": ".py",
   "mimetype": "text/x-python",
   "name": "python",
   "nbconvert_exporter": "python",
   "pygments_lexer": "ipython3",
   "version": "3.7.4"
  }
 },
 "nbformat": 4,
 "nbformat_minor": 2
}
